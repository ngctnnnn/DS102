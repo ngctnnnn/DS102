{
 "cells": [
  {
   "cell_type": "markdown",
   "id": "cfc5c84a",
   "metadata": {},
   "source": [
    "1. Sử dụng ngôn ngữ lập trình Python và thư viện sklearn, viết các hàm để thực hiện các mô hình hồi quy tuyến tính sau:\n",
    "$$\n",
    "\\begin{aligned}\n",
    "\\underset{\\beta}{\\operatorname{argmin}}\\|\\mathbf{y} - \\mathbf{X}\\beta\\|_2^2 + \\rho\\|\\beta\\|_1 \\\\\n",
    "\\underset{\\beta}{\\operatorname{argmin}}\\|\\mathbf{y} - \\mathbf{X}\\beta\\|_2^2 + \\rho\\|\\beta\\|_2^2\n",
    "\\end{aligned}\n",
    "$$\n",
    "Khi nhận đầu vào bao gồm $\\mathbf{X} \\in \\mathbb{R}^{n \\times p}$, $\\mathbf{y} \\in \\mathbb{R}^n$, và hằng số $\\rho \\in \\mathbb{R}$, các hàm này trả về lời giải tối ưu $\\beta$ khi giải quyết loại bài toán hồi quy tuyến tính cụ thể (Lasso hoặc Ridge).\n",
    "2. Sử dụng các hàm ở trên, huấn luyện các mô hình hồi quy tuyến tính được chính quy hóa dạng $l_1$ hoặc $l_2$ trên các tập dữ liệu `data_a.csv` và `data_b.csv`. Cột cuối cùng trong mỗi tập dữ liệu là biến mục tiêu $\\mathbf{y}$, và các cột còn lại tạo nên ma trận các biến độc lập $\\mathbf{X}$. Với mỗi tập dữ liệu, chia thành $50\\%$ cho huấn luyện, $25\\%$ kiểm thử, và $25\\%$ cho kiểm tra. Sử dụng tập kiểm thử để chọn giá trị tối ưu cho các tham số $\\rho$ trong dãy $[0,001, 0.01, 0.1, 1, 2]$ cho các mô hình. Tính $\\|\\mathbf{y} - \\mathbf{X}\\beta\\|_2$ trên tập kiểm tra sử dụng giá trị $\\beta$ từ các mô hình hồi quy tuyến tính được chính quy hóa dạng $l_1$, $l_2$ và dạng thông thường ($\\rho = 0$). Bằng việc so sánh thêm với mô hình đơn giản nhất là dự đoán sử dụng giá trị trung bình $\\mathbf{y}$ của tập huấn luyện và kiểm thử, cho biết phương pháp nào cho kết quả tốt nhất?\n",
    "3. Dựa vào các kết quả trên hai tập dữ liệu, lợi ích của các mô hình hồi quy tuyến tính được chính quy hóa là gì? Trường hợp nào chúng ta nên sử dụng phương pháp hồi quy tuyến tính được chính quy hóa so với dạng thông thường?"
   ]
  },
  {
   "cell_type": "code",
   "execution_count": null,
   "id": "adb4e875",
   "metadata": {},
   "outputs": [],
   "source": [
    "# Các bạn trình bày bài giải tại đây. Các bạn nên cố gắng sử dụng Markdown trong trường hợp cần thiết!"
   ]
  },
  {
   "cell_type": "code",
   "execution_count": null,
   "id": "f20ad49f",
   "metadata": {},
   "outputs": [],
   "source": []
  }
 ],
 "metadata": {
  "kernelspec": {
   "display_name": "Python 3",
   "language": "python",
   "name": "python3"
  },
  "language_info": {
   "codemirror_mode": {
    "name": "ipython",
    "version": 3
   },
   "file_extension": ".py",
   "mimetype": "text/x-python",
   "name": "python",
   "nbconvert_exporter": "python",
   "pygments_lexer": "ipython3",
   "version": "3.8.8"
  }
 },
 "nbformat": 4,
 "nbformat_minor": 5
}
