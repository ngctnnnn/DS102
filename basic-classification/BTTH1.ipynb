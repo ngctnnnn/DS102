{
 "cells": [
  {
   "cell_type": "markdown",
   "metadata": {
    "id": "Bl_J6J53J1qd"
   },
   "source": [
    "# 1. Load dữ liệu"
   ]
  },
  {
   "cell_type": "code",
   "execution_count": 1,
   "metadata": {
    "executionInfo": {
     "elapsed": 1196,
     "status": "ok",
     "timestamp": 1633655195267,
     "user": {
      "displayName": "Sơn Lưu Thanh",
      "photoUrl": "https://lh3.googleusercontent.com/a-/AOh14GhQwxcIgL3UNqhClZgF7yUwHHafv0lEQ0dZRDTrbA=s64",
      "userId": "09824077883060402796"
     },
     "user_tz": -420
    },
    "id": "kzPOR8ZqJzEk"
   },
   "outputs": [],
   "source": [
    "from sklearn.datasets import load_iris"
   ]
  },
  {
   "cell_type": "code",
   "execution_count": 2,
   "metadata": {
    "executionInfo": {
     "elapsed": 592,
     "status": "ok",
     "timestamp": 1633655196413,
     "user": {
      "displayName": "Sơn Lưu Thanh",
      "photoUrl": "https://lh3.googleusercontent.com/a-/AOh14GhQwxcIgL3UNqhClZgF7yUwHHafv0lEQ0dZRDTrbA=s64",
      "userId": "09824077883060402796"
     },
     "user_tz": -420
    },
    "id": "L-YnzEvvKAqP"
   },
   "outputs": [],
   "source": [
    "iris = load_iris()"
   ]
  },
  {
   "cell_type": "markdown",
   "metadata": {
    "id": "BmdpD5TELmjq"
   },
   "source": [
    "Ý nghĩa bộ dữ liệu \n",
    "- X: các thuộc tính của dữ liệu (đôi khi còn được gọi là biến phụ thuộc). Mỗi điểm dữ liệu (mỗi dòng) trong X sẽ gồm 4 cột theo thứ tự: Sepal Length, Sepal Width, Petal Length and Petal Width. (Sepal: đài hoa, Petal: cánh hoa). Như vậy, các thuộc tính trong bộ dữ liệu Iris sẽ là độ dài và độ rộng của đài hoa và cánh hoa.\n",
    "- y: nhãn của dữ liệu. Mỗi điểm dữ liệu (mỗi dòng) trong y sẽ là nhãn (đã được mã hoá) của bộ dữ liệu. \n",
    "\n",
    "Các nhãn trong bộ Iris: Setosa (0), Versicolour (1), and Virginica (2)"
   ]
  },
  {
   "cell_type": "code",
   "execution_count": 3,
   "metadata": {
    "executionInfo": {
     "elapsed": 678,
     "status": "ok",
     "timestamp": 1633655227974,
     "user": {
      "displayName": "Sơn Lưu Thanh",
      "photoUrl": "https://lh3.googleusercontent.com/a-/AOh14GhQwxcIgL3UNqhClZgF7yUwHHafv0lEQ0dZRDTrbA=s64",
      "userId": "09824077883060402796"
     },
     "user_tz": -420
    },
    "id": "AmAiea6CKLWy"
   },
   "outputs": [],
   "source": [
    "X = iris.data[:, :2] # đối với X, ta chỉ sử dụng 2 thuộc tính sepal length và sepal width để huấn luyện mô hình. \n",
    "y = iris.target      # y: nhãn, gồm 3 nhãn "
   ]
  },
  {
   "cell_type": "code",
   "execution_count": 4,
   "metadata": {
    "id": "rleNNr0N20L-"
   },
   "outputs": [
    {
     "data": {
      "text/plain": [
       "array([0, 0, 0, 0, 0, 0, 0, 0, 0, 0, 0, 0, 0, 0, 0, 0, 0, 0, 0, 0, 0, 0,\n",
       "       0, 0, 0, 0, 0, 0, 0, 0, 0, 0, 0, 0, 0, 0, 0, 0, 0, 0, 0, 0, 0, 0,\n",
       "       0, 0, 0, 0, 0, 0, 1, 1, 1, 1, 1, 1, 1, 1, 1, 1, 1, 1, 1, 1, 1, 1,\n",
       "       1, 1, 1, 1, 1, 1, 1, 1, 1, 1, 1, 1, 1, 1, 1, 1, 1, 1, 1, 1, 1, 1,\n",
       "       1, 1, 1, 1, 1, 1, 1, 1, 1, 1, 1, 1, 2, 2, 2, 2, 2, 2, 2, 2, 2, 2,\n",
       "       2, 2, 2, 2, 2, 2, 2, 2, 2, 2, 2, 2, 2, 2, 2, 2, 2, 2, 2, 2, 2, 2,\n",
       "       2, 2, 2, 2, 2, 2, 2, 2, 2, 2, 2, 2, 2, 2, 2, 2, 2, 2])"
      ]
     },
     "execution_count": 4,
     "metadata": {},
     "output_type": "execute_result"
    }
   ],
   "source": [
    "y"
   ]
  },
  {
   "cell_type": "code",
   "execution_count": 5,
   "metadata": {
    "id": "7egP9uY12_94"
   },
   "outputs": [
    {
     "data": {
      "text/plain": [
       "array([[5.1, 3.5],\n",
       "       [4.9, 3. ],\n",
       "       [4.7, 3.2],\n",
       "       [4.6, 3.1],\n",
       "       [5. , 3.6],\n",
       "       [5.4, 3.9],\n",
       "       [4.6, 3.4],\n",
       "       [5. , 3.4],\n",
       "       [4.4, 2.9],\n",
       "       [4.9, 3.1],\n",
       "       [5.4, 3.7],\n",
       "       [4.8, 3.4],\n",
       "       [4.8, 3. ],\n",
       "       [4.3, 3. ],\n",
       "       [5.8, 4. ],\n",
       "       [5.7, 4.4],\n",
       "       [5.4, 3.9],\n",
       "       [5.1, 3.5],\n",
       "       [5.7, 3.8],\n",
       "       [5.1, 3.8],\n",
       "       [5.4, 3.4],\n",
       "       [5.1, 3.7],\n",
       "       [4.6, 3.6],\n",
       "       [5.1, 3.3],\n",
       "       [4.8, 3.4],\n",
       "       [5. , 3. ],\n",
       "       [5. , 3.4],\n",
       "       [5.2, 3.5],\n",
       "       [5.2, 3.4],\n",
       "       [4.7, 3.2],\n",
       "       [4.8, 3.1],\n",
       "       [5.4, 3.4],\n",
       "       [5.2, 4.1],\n",
       "       [5.5, 4.2],\n",
       "       [4.9, 3.1],\n",
       "       [5. , 3.2],\n",
       "       [5.5, 3.5],\n",
       "       [4.9, 3.6],\n",
       "       [4.4, 3. ],\n",
       "       [5.1, 3.4],\n",
       "       [5. , 3.5],\n",
       "       [4.5, 2.3],\n",
       "       [4.4, 3.2],\n",
       "       [5. , 3.5],\n",
       "       [5.1, 3.8],\n",
       "       [4.8, 3. ],\n",
       "       [5.1, 3.8],\n",
       "       [4.6, 3.2],\n",
       "       [5.3, 3.7],\n",
       "       [5. , 3.3],\n",
       "       [7. , 3.2],\n",
       "       [6.4, 3.2],\n",
       "       [6.9, 3.1],\n",
       "       [5.5, 2.3],\n",
       "       [6.5, 2.8],\n",
       "       [5.7, 2.8],\n",
       "       [6.3, 3.3],\n",
       "       [4.9, 2.4],\n",
       "       [6.6, 2.9],\n",
       "       [5.2, 2.7],\n",
       "       [5. , 2. ],\n",
       "       [5.9, 3. ],\n",
       "       [6. , 2.2],\n",
       "       [6.1, 2.9],\n",
       "       [5.6, 2.9],\n",
       "       [6.7, 3.1],\n",
       "       [5.6, 3. ],\n",
       "       [5.8, 2.7],\n",
       "       [6.2, 2.2],\n",
       "       [5.6, 2.5],\n",
       "       [5.9, 3.2],\n",
       "       [6.1, 2.8],\n",
       "       [6.3, 2.5],\n",
       "       [6.1, 2.8],\n",
       "       [6.4, 2.9],\n",
       "       [6.6, 3. ],\n",
       "       [6.8, 2.8],\n",
       "       [6.7, 3. ],\n",
       "       [6. , 2.9],\n",
       "       [5.7, 2.6],\n",
       "       [5.5, 2.4],\n",
       "       [5.5, 2.4],\n",
       "       [5.8, 2.7],\n",
       "       [6. , 2.7],\n",
       "       [5.4, 3. ],\n",
       "       [6. , 3.4],\n",
       "       [6.7, 3.1],\n",
       "       [6.3, 2.3],\n",
       "       [5.6, 3. ],\n",
       "       [5.5, 2.5],\n",
       "       [5.5, 2.6],\n",
       "       [6.1, 3. ],\n",
       "       [5.8, 2.6],\n",
       "       [5. , 2.3],\n",
       "       [5.6, 2.7],\n",
       "       [5.7, 3. ],\n",
       "       [5.7, 2.9],\n",
       "       [6.2, 2.9],\n",
       "       [5.1, 2.5],\n",
       "       [5.7, 2.8],\n",
       "       [6.3, 3.3],\n",
       "       [5.8, 2.7],\n",
       "       [7.1, 3. ],\n",
       "       [6.3, 2.9],\n",
       "       [6.5, 3. ],\n",
       "       [7.6, 3. ],\n",
       "       [4.9, 2.5],\n",
       "       [7.3, 2.9],\n",
       "       [6.7, 2.5],\n",
       "       [7.2, 3.6],\n",
       "       [6.5, 3.2],\n",
       "       [6.4, 2.7],\n",
       "       [6.8, 3. ],\n",
       "       [5.7, 2.5],\n",
       "       [5.8, 2.8],\n",
       "       [6.4, 3.2],\n",
       "       [6.5, 3. ],\n",
       "       [7.7, 3.8],\n",
       "       [7.7, 2.6],\n",
       "       [6. , 2.2],\n",
       "       [6.9, 3.2],\n",
       "       [5.6, 2.8],\n",
       "       [7.7, 2.8],\n",
       "       [6.3, 2.7],\n",
       "       [6.7, 3.3],\n",
       "       [7.2, 3.2],\n",
       "       [6.2, 2.8],\n",
       "       [6.1, 3. ],\n",
       "       [6.4, 2.8],\n",
       "       [7.2, 3. ],\n",
       "       [7.4, 2.8],\n",
       "       [7.9, 3.8],\n",
       "       [6.4, 2.8],\n",
       "       [6.3, 2.8],\n",
       "       [6.1, 2.6],\n",
       "       [7.7, 3. ],\n",
       "       [6.3, 3.4],\n",
       "       [6.4, 3.1],\n",
       "       [6. , 3. ],\n",
       "       [6.9, 3.1],\n",
       "       [6.7, 3.1],\n",
       "       [6.9, 3.1],\n",
       "       [5.8, 2.7],\n",
       "       [6.8, 3.2],\n",
       "       [6.7, 3.3],\n",
       "       [6.7, 3. ],\n",
       "       [6.3, 2.5],\n",
       "       [6.5, 3. ],\n",
       "       [6.2, 3.4],\n",
       "       [5.9, 3. ]])"
      ]
     },
     "execution_count": 5,
     "metadata": {},
     "output_type": "execute_result"
    }
   ],
   "source": [
    "X"
   ]
  },
  {
   "cell_type": "markdown",
   "metadata": {
    "id": "pWQu41IoKgXg"
   },
   "source": [
    "Hãy cho biết có bao nhiêu điểm dữ liệu trong bộ data \n",
    "Gợi ý: dùng hàm len() cho X "
   ]
  },
  {
   "cell_type": "code",
   "execution_count": 6,
   "metadata": {
    "id": "-d5-YhMEKcz0"
   },
   "outputs": [
    {
     "name": "stdout",
     "output_type": "stream",
     "text": [
      "Số điểm dữ liệu: 150\n"
     ]
    }
   ],
   "source": [
    "## CODE HERE ## \n",
    "print(f\"Số điểm dữ liệu: {len(X)}\")"
   ]
  },
  {
   "cell_type": "markdown",
   "metadata": {
    "id": "w4nSugcxMsKj"
   },
   "source": [
    "Hãy cho biết chiều (shape) của X.  \n",
    "\n",
    "Gợi ý: sử dụng X.shape "
   ]
  },
  {
   "cell_type": "code",
   "execution_count": 7,
   "metadata": {
    "id": "Qi8t5_-6MpdP"
   },
   "outputs": [
    {
     "name": "stdout",
     "output_type": "stream",
     "text": [
      "Chiều của X: (150, 2)\n"
     ]
    }
   ],
   "source": [
    "## CODE HERE ## \n",
    "print(f\"Chiều của X: {X.shape}\")"
   ]
  },
  {
   "cell_type": "markdown",
   "metadata": {
    "id": "viqDmEmIM5IL"
   },
   "source": [
    "Hãy cho biết chiều (shape) của y. \n",
    "\n",
    "Gợi ý: sử dụng hàm y.shape "
   ]
  },
  {
   "cell_type": "code",
   "execution_count": 8,
   "metadata": {
    "id": "wuIIybO1M_UP"
   },
   "outputs": [
    {
     "name": "stdout",
     "output_type": "stream",
     "text": [
      "Chiều của Y: (150,)\n"
     ]
    }
   ],
   "source": [
    "## CODE HERE ## \n",
    "print(f\"Chiều của Y: {y.shape}\")"
   ]
  },
  {
   "cell_type": "markdown",
   "metadata": {
    "id": "yXMOc4JtNKxf"
   },
   "source": [
    "# 2. Xây dựng mô hình"
   ]
  },
  {
   "cell_type": "markdown",
   "metadata": {
    "id": "OOhy5zmWNoKO"
   },
   "source": [
    "## 2.1. Phân chia dữ liệu huấn luyện"
   ]
  },
  {
   "cell_type": "markdown",
   "metadata": {
    "id": "pAC6gz2nNtCF"
   },
   "source": [
    "Các bạn cần chia dữ liệu ra thành 2 tập:\n",
    "- train: tập huấn luyện\n",
    "- test: tập kiểm tra \n",
    "\n",
    "Tỉ lệ dữ liệu của tập huấn luyện và tập kiểm tra là: 8 - 2. *Tức là 80% dữ liệu ban đầu sẽ dùng cho huấn luyện, 20% sẽ dùng cho test*. \n",
    "\n",
    "Các bạn sử dụng hàm train_test_split() trong sklearn, với tham số **test_size = 0.2 **\n",
    "\n",
    "Hàm train_test_split sẽ trả về một tuple, gồm **X_train, X_test, y_train, y_test**\n",
    "\n",
    "Các bạn thay thế None bằng hàm train_test_split trong sklearn \n",
    "\n",
    "Các  bạn tham khảo code mẫu ở đây để thực hiện nhé: \n",
    "https://scikit-learn.org/stable/modules/generated/sklearn.model_selection.train_test_split.html"
   ]
  },
  {
   "cell_type": "code",
   "execution_count": 9,
   "metadata": {
    "executionInfo": {
     "elapsed": 355,
     "status": "ok",
     "timestamp": 1633656392354,
     "user": {
      "displayName": "Sơn Lưu Thanh",
      "photoUrl": "https://lh3.googleusercontent.com/a-/AOh14GhQwxcIgL3UNqhClZgF7yUwHHafv0lEQ0dZRDTrbA=s64",
      "userId": "09824077883060402796"
     },
     "user_tz": -420
    },
    "id": "ofHAlQbXNM4u"
   },
   "outputs": [],
   "source": [
    "from sklearn.model_selection import train_test_split\n",
    "\n",
    "## CODE HERE ## \n",
    "X_train, X_test, y_train, y_test = train_test_split(X, y, test_size = 0.2, random_state = 42)"
   ]
  },
  {
   "cell_type": "markdown",
   "metadata": {
    "id": "mMNSzhUhOgoW"
   },
   "source": [
    "Hãy cho biết kích thước của tập train. (X_train)"
   ]
  },
  {
   "cell_type": "code",
   "execution_count": 10,
   "metadata": {
    "id": "i7KU-MTtOpWX"
   },
   "outputs": [
    {
     "data": {
      "text/plain": [
       "120"
      ]
     },
     "execution_count": 10,
     "metadata": {},
     "output_type": "execute_result"
    }
   ],
   "source": [
    "## CODE HERE ## \n",
    "len(X_train)"
   ]
  },
  {
   "cell_type": "markdown",
   "metadata": {
    "id": "DEO5gFgHOqnR"
   },
   "source": [
    "Hãy cho biết kích thước của tập test. (X_test )"
   ]
  },
  {
   "cell_type": "code",
   "execution_count": 11,
   "metadata": {
    "id": "r-YdzXXUOt57"
   },
   "outputs": [
    {
     "data": {
      "text/plain": [
       "30"
      ]
     },
     "execution_count": 11,
     "metadata": {},
     "output_type": "execute_result"
    }
   ],
   "source": [
    "## CODE HERE ## \n",
    "len(X_test)"
   ]
  },
  {
   "cell_type": "markdown",
   "metadata": {
    "id": "RM2T73ajOuvS"
   },
   "source": [
    "Hãy cho biết chiều của X_train"
   ]
  },
  {
   "cell_type": "code",
   "execution_count": 12,
   "metadata": {
    "colab": {
     "base_uri": "https://localhost:8080/"
    },
    "executionInfo": {
     "elapsed": 369,
     "status": "ok",
     "timestamp": 1632976234160,
     "user": {
      "displayName": "Sơn Lưu Thanh",
      "photoUrl": "https://lh3.googleusercontent.com/a-/AOh14GhQwxcIgL3UNqhClZgF7yUwHHafv0lEQ0dZRDTrbA=s64",
      "userId": "09824077883060402796"
     },
     "user_tz": -420
    },
    "id": "yQXZaxGSOy9Q",
    "outputId": "8792c02f-f5f3-40e2-c3f2-27c89c6104a8"
   },
   "outputs": [
    {
     "data": {
      "text/plain": [
       "(120, 2)"
      ]
     },
     "execution_count": 12,
     "metadata": {},
     "output_type": "execute_result"
    }
   ],
   "source": [
    "## CODE HERE ## \n",
    "X_train.shape"
   ]
  },
  {
   "cell_type": "markdown",
   "metadata": {
    "id": "9xiStILSO07K"
   },
   "source": [
    "Hãy cho biết chiều của X_test"
   ]
  },
  {
   "cell_type": "code",
   "execution_count": 13,
   "metadata": {
    "id": "qooawHq1O0kC"
   },
   "outputs": [
    {
     "data": {
      "text/plain": [
       "(30, 2)"
      ]
     },
     "execution_count": 13,
     "metadata": {},
     "output_type": "execute_result"
    }
   ],
   "source": [
    "## CODE HERE ## \n",
    "X_test.shape"
   ]
  },
  {
   "cell_type": "markdown",
   "metadata": {
    "id": "XZx3R8aTPAs-"
   },
   "source": [
    "## 2.2 Huấn luyện mô hình "
   ]
  },
  {
   "cell_type": "markdown",
   "metadata": {
    "id": "Dsq0X-NsPZLO"
   },
   "source": [
    "Dùng mô hình **Logistic Regression** để huấn luyện.\n",
    "\n",
    "Gợi ý: Dùng thư viện LogisticRegression trong sklearn \n",
    "\n",
    "Đặt biến ***model1*** là mô hình LogisticRegression. \n",
    "\n",
    "Các bạn thay None bằng mô hình tương ứng. Sử dụng thư viện sklearn\n",
    "\n",
    "Các bạn tham khảo tại đây: https://scikit-learn.org/stable/modules/generated/sklearn.linear_model.LogisticRegression.html\n"
   ]
  },
  {
   "cell_type": "code",
   "execution_count": 14,
   "metadata": {
    "colab": {
     "base_uri": "https://localhost:8080/"
    },
    "executionInfo": {
     "elapsed": 386,
     "status": "ok",
     "timestamp": 1632976418929,
     "user": {
      "displayName": "Sơn Lưu Thanh",
      "photoUrl": "https://lh3.googleusercontent.com/a-/AOh14GhQwxcIgL3UNqhClZgF7yUwHHafv0lEQ0dZRDTrbA=s64",
      "userId": "09824077883060402796"
     },
     "user_tz": -420
    },
    "id": "G-RnwPEwPEtp",
    "outputId": "19dc9a11-4058-4e51-ccab-68facd691829"
   },
   "outputs": [
    {
     "data": {
      "text/plain": [
       "LogisticRegression(C=1.0, class_weight=None, dual=False, fit_intercept=True,\n",
       "                   intercept_scaling=1, l1_ratio=None, max_iter=100,\n",
       "                   multi_class='auto', n_jobs=None, penalty='l2',\n",
       "                   random_state=None, solver='lbfgs', tol=0.0001, verbose=0,\n",
       "                   warm_start=False)"
      ]
     },
     "execution_count": 14,
     "metadata": {},
     "output_type": "execute_result"
    }
   ],
   "source": [
    "from sklearn.linear_model import LogisticRegression\n",
    "\n",
    "model1 = LogisticRegression()\n",
    "\n",
    "model1.fit(X_train, y_train)"
   ]
  },
  {
   "cell_type": "markdown",
   "metadata": {
    "id": "_ei96tAQQZIi"
   },
   "source": [
    "Dự đoán mô hình. Giá trị được lưu trong biến ***y_pred1***"
   ]
  },
  {
   "cell_type": "code",
   "execution_count": 15,
   "metadata": {
    "id": "FkhXuDWuQYqT"
   },
   "outputs": [
    {
     "data": {
      "text/plain": [
       "array([1, 0, 2, 1, 2, 0, 1, 2, 1, 1, 2, 0, 0, 0, 0, 2, 2, 1, 1, 2, 0, 1,\n",
       "       0, 2, 2, 2, 2, 2, 0, 0])"
      ]
     },
     "execution_count": 15,
     "metadata": {},
     "output_type": "execute_result"
    }
   ],
   "source": [
    "y_pred1 = model1.predict(X_test)\n",
    "y_pred1"
   ]
  },
  {
   "cell_type": "markdown",
   "metadata": {
    "id": "fr3EU1HeQrSB"
   },
   "source": [
    "Dùng mô hình **K láng giềng gần nhất (K-nearest neighbor)** để huấn luyện.\n",
    "\n",
    "Gợi ý: Dùng thư viện KNeighborsClassifier trong sklearn \n",
    "\n",
    "Đặt biến ***model2*** là mô hình KNeighborsClassifier. \n",
    "\n",
    "Các bạn thay None bằng mô hình tương ứng. Sử dụng thư viện sklearn\n",
    "\n",
    "Các bạn tham khảo thêm tại đây: https://scikit-learn.org/stable/modules/generated/sklearn.neighbors.KNeighborsClassifier.html"
   ]
  },
  {
   "cell_type": "code",
   "execution_count": 16,
   "metadata": {},
   "outputs": [],
   "source": [
    "num_neighbors = 5"
   ]
  },
  {
   "cell_type": "code",
   "execution_count": 17,
   "metadata": {
    "colab": {
     "base_uri": "https://localhost:8080/"
    },
    "executionInfo": {
     "elapsed": 718,
     "status": "ok",
     "timestamp": 1632977089033,
     "user": {
      "displayName": "Sơn Lưu Thanh",
      "photoUrl": "https://lh3.googleusercontent.com/a-/AOh14GhQwxcIgL3UNqhClZgF7yUwHHafv0lEQ0dZRDTrbA=s64",
      "userId": "09824077883060402796"
     },
     "user_tz": -420
    },
    "id": "AbO-h2S8RA8n",
    "outputId": "1ac7f40b-bd3c-4fb7-9e08-7138f1908068"
   },
   "outputs": [
    {
     "data": {
      "text/plain": [
       "KNeighborsClassifier(algorithm='auto', leaf_size=30, metric='minkowski',\n",
       "                     metric_params=None, n_jobs=None, n_neighbors=5, p=2,\n",
       "                     weights='uniform')"
      ]
     },
     "execution_count": 17,
     "metadata": {},
     "output_type": "execute_result"
    }
   ],
   "source": [
    "from sklearn.neighbors import KNeighborsClassifier\n",
    "\n",
    "## CODE HERE ## \n",
    "model2 = KNeighborsClassifier(n_neighbors = num_neighbors)\n",
    "model2.fit(X_train, y_train)"
   ]
  },
  {
   "cell_type": "markdown",
   "metadata": {
    "id": "8unf5MCpRHEu"
   },
   "source": [
    "Dự đoán mô hình. Giá trị được lưu trong biến ***y_pred2***"
   ]
  },
  {
   "cell_type": "code",
   "execution_count": 18,
   "metadata": {
    "id": "wul4e-6QRFWm"
   },
   "outputs": [
    {
     "data": {
      "text/plain": [
       "array([1, 0, 2, 1, 1, 0, 1, 2, 1, 2, 2, 0, 0, 0, 0, 2, 2, 1, 2, 2, 0, 1,\n",
       "       0, 2, 2, 1, 1, 2, 0, 0])"
      ]
     },
     "execution_count": 18,
     "metadata": {},
     "output_type": "execute_result"
    }
   ],
   "source": [
    "y_pred2 = model2.predict(X_test)\n",
    "y_pred2"
   ]
  },
  {
   "cell_type": "markdown",
   "metadata": {
    "id": "h4jzmgF8RRfp"
   },
   "source": [
    "# 3. Đánh giá kết quả của các mô hình "
   ]
  },
  {
   "cell_type": "markdown",
   "metadata": {
    "id": "s5lhLom2RVBn"
   },
   "source": [
    "So sánh nhãn được dự đoán của LogisticRegression và KNeighborsClassifier với nhãn thật của dữ liệu test để biết được độ chính xác của mô hình \n",
    "\n",
    "- y_pred1: danh sách nhãn dự đoán của mô hình LogisticRegression\n",
    "- y_pred2: danh sách nhãn dự đoán của mô hình KNeighborsClassifier\n",
    "\n",
    "- y_test: danh sách nhãn thực sự của dữ liệu (trong code ví dụ thì sklearn sẽ dùng tên biến là y_true. Tuy nhiên, ý nghĩa cả 2 là một) \n",
    "\n",
    "=> Như vậy, ta sẽ so sánh **y_pred1** và **y_test** để biết được độ chính xác của mô hình LogisticRegression. Và so sánh **y_pred2** và **y_test** để biết được độ chính xác của mô hình KNeighborsClassifier"
   ]
  },
  {
   "cell_type": "markdown",
   "metadata": {
    "id": "I6N-6Xj-SK5v"
   },
   "source": [
    "Độ chính xác của LogisticRegression. \n",
    "Sử dụng accuracy_score trong thư viện sklearn \n",
    "\n",
    "Các bạn thực hiện thử để biết độ chính xác của LogisticRegression\n",
    "\n",
    "Các bạn tham khảo thêm về accuracy_score tại đây: https://scikit-learn.org/stable/modules/generated/sklearn.metrics.accuracy_score.html"
   ]
  },
  {
   "cell_type": "code",
   "execution_count": 19,
   "metadata": {
    "colab": {
     "base_uri": "https://localhost:8080/"
    },
    "executionInfo": {
     "elapsed": 359,
     "status": "ok",
     "timestamp": 1632977104509,
     "user": {
      "displayName": "Sơn Lưu Thanh",
      "photoUrl": "https://lh3.googleusercontent.com/a-/AOh14GhQwxcIgL3UNqhClZgF7yUwHHafv0lEQ0dZRDTrbA=s64",
      "userId": "09824077883060402796"
     },
     "user_tz": -420
    },
    "id": "FNiUPp6TRUj0",
    "outputId": "d7344f3a-ff5b-4518-831c-77f0f30cd1de"
   },
   "outputs": [
    {
     "data": {
      "text/plain": [
       "90.0"
      ]
     },
     "execution_count": 19,
     "metadata": {},
     "output_type": "execute_result"
    }
   ],
   "source": [
    "from sklearn.metrics import accuracy_score\n",
    "accuracy_score(y_test, y_pred1)*100"
   ]
  },
  {
   "cell_type": "markdown",
   "metadata": {
    "id": "HYa3Nul6SyDF"
   },
   "source": [
    "Các bạn thực hiện tương tự để tính độ chính xác của KNeighborsClassifier"
   ]
  },
  {
   "cell_type": "code",
   "execution_count": 20,
   "metadata": {
    "id": "Z6MR1MacS3QM"
   },
   "outputs": [
    {
     "data": {
      "text/plain": [
       "80.0"
      ]
     },
     "execution_count": 20,
     "metadata": {},
     "output_type": "execute_result"
    }
   ],
   "source": [
    "## CODE HERE ## \n",
    "accuracy_score(y_test, y_pred2)*100"
   ]
  },
  {
   "cell_type": "markdown",
   "metadata": {
    "id": "0InWmPuCTnWy"
   },
   "source": [
    "**BÀI TẬP 1**: DỰA VÀO VÍ DỤ MẪU Ở TRÊN, CÁC BẠN HÃY TÍNH THÊM ĐỘ ĐO **PRECISION, RECALL VÀ F1 MACRO** CHO MÔ HÌNH LogisticRegression \n",
    "\n",
    "Gợi ý: \n",
    "- precision_score: https://scikit-learn.org/stable/modules/generated/sklearn.metrics.precision_score.html#sklearn.metrics.precision_score\n",
    "- recall_score: https://scikit-learn.org/stable/modules/generated/sklearn.metrics.recall_score.html#sklearn.metrics.recall_score\n",
    "- f1_score: https://scikit-learn.org/stable/modules/generated/sklearn.metrics.f1_score.html#sklearn.metrics.f1_score\n",
    "\n",
    "Lưu ý: Để dùng f1 macro, các bạn cần khai báo thêm tham số average='macro' trong f1_score nhé "
   ]
  },
  {
   "cell_type": "code",
   "execution_count": 21,
   "metadata": {
    "id": "pS7Luvz8T5up"
   },
   "outputs": [
    {
     "name": "stdout",
     "output_type": "stream",
     "text": [
      "Logistic Regression: \n",
      "precision score = 0.9027777777777778\n",
      "recall score = 0.8956228956228957\n",
      "f1 score = 0.8976982097186701\n"
     ]
    }
   ],
   "source": [
    "## CODE HERE ## \n",
    "\"\"\"\n",
    "Metrics for Logistic Regression\n",
    "\"\"\"\n",
    "from sklearn.metrics import f1_score, precision_score, recall_score\n",
    "precision_score = precision_score(y_test, y_pred1, average = 'macro')\n",
    "recall_score = recall_score(y_test, y_pred1, average='macro')\n",
    "f1_macro = f1_score(y_test, y_pred1, average = 'macro')\n",
    "print(\"Logistic Regression: \\nprecision score = {}\\nrecall score = {}\\nf1 score = {}\".format(precision_score, recall_score, f1_macro))"
   ]
  },
  {
   "cell_type": "markdown",
   "metadata": {
    "id": "Mu-bfmswUf8L"
   },
   "source": [
    "**BÀI TẬP 2**: Thực hiện các yêu cầu tương tự như BÀI TẬP 1 cho KNeighborsClassifier"
   ]
  },
  {
   "cell_type": "code",
   "execution_count": 22,
   "metadata": {
    "id": "gv9D8ZW8UtSS"
   },
   "outputs": [
    {
     "name": "stdout",
     "output_type": "stream",
     "text": [
      "KNeighbors: \n",
      "precision score = 0.7979797979797979\n",
      "recall score = 0.7979797979797979\n",
      "f1 score = 0.7979797979797979\n"
     ]
    }
   ],
   "source": [
    "## CODE HERE ## \n",
    "\"\"\"\n",
    "Metrics for KNC\n",
    "\"\"\"\n",
    "from sklearn.metrics import f1_score, precision_score, recall_score\n",
    "precision_score = precision_score(y_test, y_pred2, average = 'macro')\n",
    "recall_score = recall_score(y_test, y_pred2, average='macro')\n",
    "f1_macro = f1_score(y_test, y_pred2, average = 'macro')\n",
    "print(\"KNeighbors: \\nprecision score = {}\\nrecall score = {}\\nf1 score = {}\".format(precision_score, recall_score, f1_macro))"
   ]
  },
  {
   "cell_type": "markdown",
   "metadata": {
    "id": "HEKVxh_iVBs7"
   },
   "source": [
    "Các bạn thực hiện theo từng yêu cầu trong hướng dẫn trên file. Các bạn điền code trực tiếp, và thực hiện run code để ra kết quả ở các ô có ký hiệu ## CODE HERE ## \n",
    "\n",
    "Bài nộp: Nộp trên course. Giảng viên sẽ tạo submission cho các bạn, \n",
    "Các bạn nộp file jupyter notebook trực tiếp, đặt tên theo cú pháp: \n",
    "\n",
    "***MSSV_HoTen_BTTH1.jpynb***"
   ]
  }
 ],
 "metadata": {
  "colab": {
   "authorship_tag": "ABX9TyMKvJlc8A0f+8vDaR5afW5u",
   "collapsed_sections": [],
   "name": "BTTH1.ipynb",
   "provenance": []
  },
  "kernelspec": {
   "display_name": "Python 3",
   "language": "python",
   "name": "python3"
  },
  "language_info": {
   "codemirror_mode": {
    "name": "ipython",
    "version": 3
   },
   "file_extension": ".py",
   "mimetype": "text/x-python",
   "name": "python",
   "nbconvert_exporter": "python",
   "pygments_lexer": "ipython3",
   "version": "3.9.5"
  }
 },
 "nbformat": 4,
 "nbformat_minor": 1
}
